{
 "cells": [
  {
   "cell_type": "markdown",
   "id": "ddbd44a6-eddc-499e-891a-98434c12bb27",
   "metadata": {
    "deletable": false,
    "editable": false,
    "slideshow": {
     "slide_type": ""
    },
    "tags": []
   },
   "source": [
    "**SM339 &#x25aa; Applied Statistics &#x25aa; Spring 2024 &#x25aa; Uhan**"
   ]
  },
  {
   "cell_type": "markdown",
   "id": "d1fd5d54-36e1-4bb3-bc58-98da8ecc0ca7",
   "metadata": {
    "deletable": false,
    "editable": false,
    "slideshow": {
     "slide_type": ""
    },
    "tags": []
   },
   "source": [
    "# Quiz 10 &mdash; 4/25/2024"
   ]
  },
  {
   "cell_type": "markdown",
   "id": "4d544ec9-f80b-4d04-bb08-37f63c99369c",
   "metadata": {
    "deletable": false,
    "editable": false,
    "jp-MarkdownHeadingCollapsed": true,
    "slideshow": {
     "slide_type": ""
    },
    "tags": []
   },
   "source": [
    "## Instructions\n",
    "\n",
    "This take-home quiz is due on __Thursday, April 25 at 23:59__.\n",
    "\n",
    "You may use your own course materials, as well as any materials directly linked from the course website. __No collaboration allowed.__\n",
    "\n",
    "Type your answers __directly in this Jupyter notebook__, and submit this notebook (just the `ipynb` file) using the submission form on the [course website](https://courses.uhan.me/sm339/)."
   ]
  },
  {
   "cell_type": "markdown",
   "id": "e8d7feec-28e6-4c32-b1ac-3455cbb2520f",
   "metadata": {
    "deletable": false,
    "editable": false,
    "slideshow": {
     "slide_type": ""
    },
    "tags": []
   },
   "source": [
    "## Problem 1\n",
    "\n",
    "The _Titanic_ was a British luxury oceanliner that sank famously in the icy North Atlantic Ocean on its maiden voyage in April 1912. Of the approximately 2200 passengers on board, 1500 died. The high death rate was blamed largely on the inadequate supply of lifeboats, a result of the manufacturer's claim that the ship was \"unsinkable\". A partial dataset of the passenger list was compiled by Philip Hinde in his _Encyclopedia Titanica_. This dataset is named `Titanic` in the `Stat2Data` Library.\n",
    "\n",
    "Run the cell below to load and preview this data."
   ]
  },
  {
   "cell_type": "code",
   "execution_count": null,
   "id": "e6761c37-af33-4fc5-8e0a-d91af528b969",
   "metadata": {
    "deletable": false,
    "editable": false,
    "slideshow": {
     "slide_type": ""
    },
    "tags": []
   },
   "outputs": [],
   "source": [
    "library(Stat2Data)\n",
    "data(Titanic)\n",
    "head(Titanic)"
   ]
  },
  {
   "cell_type": "markdown",
   "id": "f1e253a0-6b7c-4aef-931a-fd8c15928101",
   "metadata": {
    "deletable": false,
    "editable": false,
    "slideshow": {
     "slide_type": ""
    },
    "tags": []
   },
   "source": [
    "### a.\n",
    "\n",
    "The dataset contains a variable named $\\mathit{Survived}$, which is equal to 1 if the passenger survived, and 0 otherwise. It also contains a variable named $\\mathit{Age}$, the passenger's age in years.\n",
    "\n",
    "You are interested in the relationship between survival and the passenger's age. Using R, fit a suitable regression model, using $\\mathit{Survival}$ as the response variable. Provide __only__ the summary output."
   ]
  },
  {
   "cell_type": "code",
   "execution_count": null,
   "id": "ebe66962-1715-4350-ad91-30d7800ba86a",
   "metadata": {
    "deletable": false,
    "editable": true,
    "slideshow": {
     "slide_type": ""
    },
    "tags": []
   },
   "outputs": [],
   "source": []
  },
  {
   "cell_type": "markdown",
   "id": "202ccd52-4f5a-4297-8aab-2562b0c5eeca",
   "metadata": {
    "deletable": false,
    "editable": false,
    "slideshow": {
     "slide_type": ""
    },
    "tags": []
   },
   "source": [
    "### b.\n",
    "\n",
    "Is there a statistically significant relationship between survival and the passenger's age?\n",
    "\n",
    "Perform an appropriate hypothesis test to answer this question:\n",
    "\n",
    "- State the name of the test.\n",
    "- Perform all four steps of the test, including an answer to the question above.\n",
    "\n",
    "Use a significance level of 0.05."
   ]
  },
  {
   "cell_type": "markdown",
   "id": "0f679b79-f9a2-4915-a0bd-4fa37f722584",
   "metadata": {
    "deletable": false,
    "editable": true,
    "slideshow": {
     "slide_type": ""
    },
    "tags": []
   },
   "source": [
    "*Write your answer here. Double-click to edit.*"
   ]
  },
  {
   "cell_type": "markdown",
   "id": "a9b1a7f5-0c29-400d-93ad-dc7a7f033416",
   "metadata": {
    "deletable": false,
    "editable": false,
    "slideshow": {
     "slide_type": ""
    },
    "tags": []
   },
   "source": [
    "### c.\n",
    "\n",
    "Use the code cell below to compute the odds ratio of survival corresponding to a __10-year increase__ in the passenger's age. \n",
    "\n",
    "Use the Markdown cell below to interpret the odds ratio.\n",
    "\n",
    "_Hint._ In R, $e^{x}$ is `exp(x)`."
   ]
  },
  {
   "cell_type": "code",
   "execution_count": null,
   "id": "9d01ed94-c142-44ab-bf2c-6548a9fae4b3",
   "metadata": {
    "deletable": false,
    "editable": true,
    "slideshow": {
     "slide_type": ""
    },
    "tags": []
   },
   "outputs": [],
   "source": []
  },
  {
   "cell_type": "markdown",
   "id": "3e03144f-1413-4f01-a307-f58d65354697",
   "metadata": {
    "deletable": false,
    "editable": true,
    "slideshow": {
     "slide_type": ""
    },
    "tags": []
   },
   "source": [
    "*Write your answer here. Double-click to edit.*"
   ]
  },
  {
   "cell_type": "markdown",
   "id": "21c51bf3-6ce3-452e-8046-205c48030edf",
   "metadata": {
    "deletable": false,
    "editable": false,
    "slideshow": {
     "slide_type": ""
    },
    "tags": []
   },
   "source": [
    "### d.\n",
    "\n",
    "Give a 95\\% confidence interval on the odds ratio of survival corresponding to a __1-year increase__ in the passenger's age.\n",
    "\n",
    "Use the code cell below to write R code that shows your work. Report your final answer in the Markdown cell below.\n",
    "\n",
    "_Hint._ Remember from Lesson 26 that you can find the critical value with the `qnorm()` function. "
   ]
  },
  {
   "cell_type": "code",
   "execution_count": null,
   "id": "23da2e66-fdd9-47a6-bdbe-0c1ada2a2249",
   "metadata": {
    "deletable": false,
    "editable": true,
    "slideshow": {
     "slide_type": ""
    },
    "tags": []
   },
   "outputs": [],
   "source": []
  },
  {
   "cell_type": "markdown",
   "id": "264edf6a-bdb1-404a-b9ed-45c17a6bd124",
   "metadata": {
    "deletable": false,
    "editable": true,
    "slideshow": {
     "slide_type": ""
    },
    "tags": []
   },
   "source": [
    "*Write your answer here. Double-click to edit.*"
   ]
  },
  {
   "cell_type": "markdown",
   "id": "a14477ea-d77f-4ea3-a42f-d378e2c6a829",
   "metadata": {
    "deletable": false,
    "editable": false,
    "slideshow": {
     "slide_type": ""
    },
    "tags": []
   },
   "source": [
    "## Grading rubric\n",
    "    \n",
    "| Problem | Weight |\n",
    "| :-: | -: |\n",
    "| 1a | 1.0 |\n",
    "| 1b | 1.0 |\n",
    "| 1c | 1.0 | \n",
    "| 1d | 1.0 | \n",
    "| __Max Score__ | __40__ | "
   ]
  }
 ],
 "metadata": {
  "kernelspec": {
   "display_name": "R",
   "language": "R",
   "name": "ir"
  },
  "language_info": {
   "codemirror_mode": "r",
   "file_extension": ".r",
   "mimetype": "text/x-r-source",
   "name": "R",
   "pygments_lexer": "r",
   "version": "4.2.2"
  }
 },
 "nbformat": 4,
 "nbformat_minor": 5
}
